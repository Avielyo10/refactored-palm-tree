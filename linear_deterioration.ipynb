{
 "cells": [
  {
   "cell_type": "markdown",
   "metadata": {},
   "source": [
    "# Linear Deterioration\n",
    "\n",
    "![explanation](images/explanation.png)\n",
    "\n",
    "## Strategies\n",
    "\n",
    "### Complete Search Strategy\n",
    "\n",
    "With this strategy we are trying to run all permutations to find the best solution.\n",
    "Let's run the example from above:"
   ]
  },
  {
   "cell_type": "code",
   "execution_count": 1,
   "metadata": {},
   "outputs": [
    {
     "output_type": "stream",
     "name": "stdout",
     "text": [
      "Complete Search Strategy: Cmax = 7, Order = [(2, 3), (3, 1)]\n"
     ]
    }
   ],
   "source": [
    "from strategies.complete_search import CompleteStrategy\n",
    "\n",
    "complete_search_strategy = CompleteStrategy(\"Complete Search Strategy\", [3, 2], [1, 3], 2)\n",
    "\n",
    "complete_search_strategy.solve()\n",
    "print(f\"{complete_search_strategy.name}: Cmax = {complete_search_strategy.cmax}, Order = {complete_search_strategy.correct_order}\")"
   ]
  },
  {
   "cell_type": "markdown",
   "metadata": {},
   "source": [
    "### Greedy Strategy\n",
    "\n",
    "In this strategy I was trying to be greedy. I was building a binary search tree, each node holds the basic processing time. Using a decider function I was adding the nodes one after the other, then by traveling `in order` I get the optimal solution.\n",
    "\n",
    "Let's run the example from above:"
   ]
  },
  {
   "cell_type": "code",
   "execution_count": 2,
   "metadata": {},
   "outputs": [
    {
     "output_type": "stream",
     "name": "stdout",
     "text": [
      "Greedy Strategy: Cmax = 7, Order = [(2, 3), (3, 1)]\n"
     ]
    }
   ],
   "source": [
    "from strategies.greedy import Greedy\n",
    "\n",
    "greedy_strategy = Greedy(\"Greedy Strategy\", [3, 2], [1, 3], 2)\n",
    "\n",
    "greedy_strategy.solve()\n",
    "print(f\"{greedy_strategy.name}: Cmax = {greedy_strategy.cmax}, Order = {greedy_strategy.correct_order}\")"
   ]
  },
  {
   "source": [
    "This proves that we can find a polynomial solution for the problem. "
   ],
   "cell_type": "markdown",
   "metadata": {}
  }
 ],
 "metadata": {
  "kernelspec": {
   "name": "Python 3.7.9 64-bit",
   "display_name": "Python 3.7.9 64-bit",
   "metadata": {
    "interpreter": {
     "hash": "767d51c1340bd893661ea55ea3124f6de3c7a262a8b4abca0554b478b1e2ff90"
    }
   }
  },
  "language_info": {
   "codemirror_mode": {
    "name": "ipython",
    "version": 3
   },
   "file_extension": ".py",
   "mimetype": "text/x-python",
   "name": "python",
   "nbconvert_exporter": "python",
   "pygments_lexer": "ipython3",
   "version": "3.7.9-final"
  }
 },
 "nbformat": 4,
 "nbformat_minor": 4
}